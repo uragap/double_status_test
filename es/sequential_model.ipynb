{
  "cells": [
    {
      "cell_type": "markdown",
      "metadata": {
        "colab_type": "text",
        "id": "LjJ7XrjSK4Kp"
      },
      "source": [
        "##### Copyright 2020 Los autores de TensorFlow."
      ]
    },
    {
      "cell_type": "code",
      "execution_count": 0,
      "metadata": {
        "cellView": "form",
        "colab": {
        },
        "colab_type": "code",
        "id": "vR6F124oRpTA"
      },
      "outputs": [

      ],
      "source": [
        "#@title Licensed under the Apache License, Version 2.0 (the \"License\");\n",
        "# you may not use this file except in compliance with the License.\n",
        "# You may obtain a copy of the License at\n",
        "#\n",
        "# https://www.apache.org/licenses/LICENSE-2.0\n",
        "#\n",
        "# Unless required by applicable law or agreed to in writing, software\n",
        "# distributed under the License is distributed on an \"AS IS\" BASIS,\n",
        "# WITHOUT WARRANTIES OR CONDITIONS OF ANY KIND, either express or implied.\n",
        "# See the License for the specific language governing permissions and\n",
        "# limitations under the License."
      ]
    },
    {
      "cell_type": "markdown",
      "metadata": {
        "colab_type": "text",
        "id": "ZsYweEXsF1Ut"
      },
      "source": [
        "# El modelo secuencial"
      ]
    },
    {
      "cell_type": "markdown",
      "metadata": {
        "colab_type": "text",
        "id": "zdxri4XdC3IR"
      },
      "source": [
        "<table class=\"tfo-notebook-buttons\" align=\"left\">\n",
        "  <td><a target=\"_blank\" href=\"https://www.tensorflow.org/guide/keras/sequential_model\"><img src=\"https://www.tensorflow.org/images/tf_logo_32px.png\"> Ver en TensorFlow.org</a></td>\n",
        "  <td><a target=\"_blank\" href=\"https://colab.research.google.com/github/keras-team/keras-io/blob/master/tf/sequential_model.ipynb\"><img src=\"https://www.tensorflow.org/images/colab_logo_32px.png\"> Ejecutar en Google Colab</a></td>\n",
        "  <td><a target=\"_blank\" href=\"https://github.com/keras-team/keras-io/blob/master/guides/sequential_model.py\"><img src=\"https://www.tensorflow.org/images/GitHub-Mark-32px.png\"> Ver fuente en GitHub</a></td>\n",
        "  <td><a href=\"https://storage.googleapis.com/tensorflow_docs/keras-io/tf/sequential_model.ipynb\"><img src=\"https://www.tensorflow.org/images/download_logo_32px.png\"> Descargar cuaderno</a></td>\n",
        "</table>"
      ]
    },
    {
      "cell_type": "markdown",
      "metadata": {
        "colab_type": "text",
        "id": "Ygz2642R7AEV"
      },
      "source": [
        "## Preparar"
      ]
    },
    {
      "cell_type": "code",
      "execution_count": 0,
      "metadata": {
        "colab_type": "code",
        "id": "kPfh5AQ8fFzQ"
      },
      "outputs": [

      ],
      "source": [
        "import tensorflow as tf\n",
        "from tensorflow import keras\n",
        "from tensorflow.keras import layers"
      ]
    },
    {
      "cell_type": "markdown",
      "metadata": {
        "colab_type": "text",
        "id": "H86UozfTDwPp"
      },
      "source": [
        "## Cuando usar un modelo secuencial\n",
        "\n",
        "Un modelo `Sequential` es apropiado para **una pila simple de capas** donde cada capa tiene **exactamente un tensor de entrada y un tensor de salida** .\n",
        "\n",
        "Esquemáticamente, el siguiente modelo `Sequential` :"
      ]
    },
    {
      "cell_type": "code",
      "execution_count": 0,
      "metadata": {
        "colab_type": "code",
        "id": "ajdypoWBxCFi"
      },
      "outputs": [

      ],
      "source": [
        "# Define Sequential model with 3 layers\n",
        "model = keras.Sequential(\n",
        "    [\n",
        "        layers.Dense(2, activation=\"relu\", name=\"layer1\"),\n",
        "        layers.Dense(3, activation=\"relu\", name=\"layer2\"),\n",
        "        layers.Dense(4, name=\"layer3\"),\n",
        "    ]\n",
        ")\n",
        "# Call model on a test input\n",
        "x = tf.ones((3, 3))\n",
        "y = model(x)"
      ]
    },
    {
      "cell_type": "markdown",
      "metadata": {
        "colab_type": "text",
        "id": "m9gUL80fmFFo"
      },
      "source": [
        "es equivalente a esta función:"
      ]
    },
    {
      "cell_type": "code",
      "execution_count": 0,
      "metadata": {
        "colab_type": "code",
        "id": "gqksyI6UN0U3"
      },
      "outputs": [

      ],
      "source": [
        "# Create 3 layers\n",
        "layer1 = layers.Dense(2, activation=\"relu\", name=\"layer1\")\n",
        "layer2 = layers.Dense(3, activation=\"relu\", name=\"layer2\")\n",
        "layer3 = layers.Dense(4, name=\"layer3\")\n",
        "\n",
        "# Call layers on a test input\n",
        "x = tf.ones((3, 3))\n",
        "y = layer3(layer2(layer1(x)))"
      ]
    },
    {
      "cell_type": "markdown",
      "metadata": {
        "colab_type": "text",
        "id": "MqyEgCnQVf4w"
      },
      "source": [
        "A Sequential model is **not appropriate** when:\n",
        "\n",
        "- Su modelo tiene múltiples entradas o múltiples salidas\n",
        "- Cualquiera de sus capas tiene múltiples entradas o múltiples salidas\n",
        "- Necesitas compartir capas\n",
        "- Quiere una topología no lineal (por ejemplo, una conexión residual, un modelo de varias ramas)"
      ]
    },
    {
      "cell_type": "markdown",
      "metadata": {
        "colab_type": "text",
        "id": "sWxFjYzpKzUD"
      },
      "source": [
        "## Creando un modelo secuencial\n",
        "\n",
        "Puede crear un modelo secuencial pasando una lista de capas al constructor secuencial:"
      ]
    },
    {
      "cell_type": "code",
      "execution_count": 0,
      "metadata": {
        "colab_type": "code",
        "id": "itLg7K6qTzVO"
      },
      "outputs": [

      ],
      "source": [
        "model = keras.Sequential(\n",
        "    [\n",
        "        layers.Dense(2, activation=\"relu\"),\n",
        "        layers.Dense(3, activation=\"relu\"),\n",
        "        layers.Dense(4),\n",
        "    ]\n",
        ")"
      ]
    },
    {
      "cell_type": "markdown",
      "metadata": {
        "colab_type": "text",
        "id": "g3fvbcVmCHEP"
      },
      "source": [
        "Sus capas son accesibles a través del atributo de `layers` :"
      ]
    },
    {
      "cell_type": "code",
      "execution_count": 0,
      "metadata": {
        "colab_type": "code",
        "id": "Lwmuasfp5KXs"
      },
      "outputs": [

      ],
      "source": [
        "model.layers"
      ]
    },
    {
      "cell_type": "markdown",
      "metadata": {
        "colab_type": "text",
        "id": "qVNQRoWqJ3PY"
      },
      "source": [
        "También puede crear un modelo secuencial de forma incremental a través del método `add()` :"
      ]
    },
    {
      "cell_type": "code",
      "execution_count": 0,
      "metadata": {
        "colab_type": "code",
        "id": "2TD4yRflSEv6"
      },
      "outputs": [

      ],
      "source": [
        "model = keras.Sequential()\n",
        "model.add(layers.Dense(2, activation=\"relu\"))\n",
        "model.add(layers.Dense(3, activation=\"relu\"))\n",
        "model.add(layers.Dense(4))"
      ]
    },
    {
      "cell_type": "markdown",
      "metadata": {
        "colab_type": "text",
        "id": "PmunUrP7HhMI"
      },
      "source": [
        "Tenga en cuenta que también hay un método `pop()` correspondiente para eliminar capas: un modelo secuencial se comporta de manera muy similar a una lista de capas."
      ]
    },
    {
      "cell_type": "code",
      "execution_count": 0,
      "metadata": {
        "colab_type": "code",
        "id": "6INo3oxSLUbA"
      },
      "outputs": [

      ],
      "source": [
        "model.pop()\n",
        "print(len(model.layers))  # 2"
      ]
    },
    {
      "cell_type": "markdown",
      "metadata": {
        "colab_type": "text",
        "id": "AAvcsRrOxQ9W"
      },
      "source": [
        "También tenga en cuenta que el constructor secuencial acepta un argumento de `name` , como cualquier capa o modelo en Keras. Esto es útil para anotar gráficos de TensorBoard con nombres semánticamente significativos."
      ]
    },
    {
      "cell_type": "code",
      "execution_count": 0,
      "metadata": {
        "colab_type": "code",
        "id": "s8oN1kMYqSuD"
      },
      "outputs": [

      ],
      "source": [
        "model = keras.Sequential(name=\"my_sequential\")\n",
        "model.add(layers.Dense(2, activation=\"relu\", name=\"layer1\"))\n",
        "model.add(layers.Dense(3, activation=\"relu\", name=\"layer2\"))\n",
        "model.add(layers.Dense(4, name=\"layer3\"))"
      ]
    },
    {
      "cell_type": "markdown",
      "metadata": {
        "colab_type": "text",
        "id": "PqGh2rmljliN"
      },
      "source": [
        "## Especificar la forma de entrada de antemano\n",
        "\n",
        "Generalmente, todas las capas de Keras necesitan conocer la forma de sus entradas para poder crear sus pesos. Entonces, cuando crea una capa como esta, inicialmente, no tiene pesos:"
      ]
    },
    {
      "cell_type": "code",
      "execution_count": 0,
      "metadata": {
        "colab_type": "code",
        "id": "tW04KX032Ol9"
      },
      "outputs": [

      ],
      "source": [
        "layer = layers.Dense(3)\n",
        "layer.weights  # Empty"
      ]
    },
    {
      "cell_type": "markdown",
      "metadata": {
        "colab_type": "text",
        "id": "NU0Ai9lbGUKA"
      },
      "source": [
        "Crea sus pesos la primera vez que se llama en una entrada, ya que la forma de los pesos depende de la forma de las entradas:"
      ]
    },
    {
      "cell_type": "code",
      "execution_count": 0,
      "metadata": {
        "colab_type": "code",
        "id": "OqSj1TLCU1vH"
      },
      "outputs": [

      ],
      "source": [
        "# Call layer on a test input\n",
        "x = tf.ones((1, 4))\n",
        "y = layer(x)\n",
        "layer.weights  # Now it has weights, of shape (4, 3) and (3,)"
      ]
    },
    {
      "cell_type": "markdown",
      "metadata": {
        "colab_type": "text",
        "id": "CDF0sLoVrGdU"
      },
      "source": [
        "Naturally, this also applies to Sequential models. When you instantiate a Sequential model without an input shape, it isn't \"built\": it has no weights (and calling `model.weights` results in an error stating just this). The weights are created when the model first sees some input data:"
      ]
    },
    {
      "cell_type": "code",
      "execution_count": 0,
      "metadata": {
        "colab_type": "code",
        "id": "ovoPw8Ncbevb"
      },
      "outputs": [

      ],
      "source": [
        "model = keras.Sequential(\n",
        "    [\n",
        "        layers.Dense(2, activation=\"relu\"),\n",
        "        layers.Dense(3, activation=\"relu\"),\n",
        "        layers.Dense(4),\n",
        "    ]\n",
        ")  # No weights at this stage!\n",
        "\n",
        "# At this point, you can't do this:\n",
        "# model.weights\n",
        "\n",
        "# You also can't do this:\n",
        "# model.summary()\n",
        "\n",
        "# Call the model on a test input\n",
        "x = tf.ones((1, 4))\n",
        "y = model(x)\n",
        "print(\"Number of weights after calling the model:\", len(model.weights))  # 6"
      ]
    },
    {
      "cell_type": "markdown",
      "metadata": {
        "colab_type": "text",
        "id": "laWJparrJg70"
      },
      "source": [
        "Una vez que un modelo está \"construido\", puede llamar a su método `summary()` para mostrar su contenido:"
      ]
    },
    {
      "cell_type": "code",
      "execution_count": 0,
      "metadata": {
        "colab_type": "code",
        "id": "mY2X9QbgabHu"
      },
      "outputs": [

      ],
      "source": [
        "model.summary()"
      ]
    },
    {
      "cell_type": "markdown",
      "metadata": {
        "colab_type": "text",
        "id": "1ZDoaIHvwSmw"
      },
      "source": [
        "Sin embargo, puede ser muy útil cuando se crea un modelo secuencial de forma incremental para poder mostrar el resumen del modelo hasta el momento, incluida la forma de salida actual. En este caso, debe comenzar su modelo pasando un objeto de `Input` a su modelo, para que conozca su forma de entrada desde el principio:"
      ]
    },
    {
      "cell_type": "code",
      "execution_count": 0,
      "metadata": {
        "colab_type": "code",
        "id": "Wv9HeHEeCKAG"
      },
      "outputs": [

      ],
      "source": [
        "model = keras.Sequential()\n",
        "model.add(keras.Input(shape=(4,)))\n",
        "model.add(layers.Dense(2, activation=\"relu\"))\n",
        "\n",
        "model.summary()"
      ]
    },
    {
      "cell_type": "markdown",
      "metadata": {
        "colab_type": "text",
        "id": "4rhwhV0mpu6m"
      },
      "source": [
        "Tenga en cuenta que el objeto de `Input` no se muestra como parte de `model.layers` , ya que no es una capa:"
      ]
    },
    {
      "cell_type": "code",
      "execution_count": 0,
      "metadata": {
        "colab_type": "code",
        "id": "oCwEwMoy1B0A"
      },
      "outputs": [

      ],
      "source": [
        "model.layers"
      ]
    },
    {
      "cell_type": "markdown",
      "metadata": {
        "colab_type": "text",
        "id": "xcKk9VmVY9of"
      },
      "source": [
        "Una alternativa simple es simplemente pasar un argumento `input_shape` a su primera capa:"
      ]
    },
    {
      "cell_type": "code",
      "execution_count": 0,
      "metadata": {
        "colab_type": "code",
        "id": "FMe4x1CMP75N"
      },
      "outputs": [

      ],
      "source": [
        "model = keras.Sequential()\n",
        "model.add(layers.Dense(2, activation=\"relu\", input_shape=(4,)))\n",
        "\n",
        "model.summary()"
      ]
    },
    {
      "cell_type": "markdown",
      "metadata": {
        "colab_type": "text",
        "id": "E8lMCSByqIqP"
      },
      "source": [
        "Los modelos creados con una forma de entrada predefinida como esta siempre tienen pesos (incluso antes de ver cualquier dato) y siempre tienen una forma de salida definida.\n",
        "\n",
        "En general, es una práctica recomendada especificar siempre la forma de entrada de un modelo secuencial de antemano si sabe cuál es."
      ]
    },
    {
      "cell_type": "markdown",
      "metadata": {
        "colab_type": "text",
        "id": "W5tJgMQ6phEp"
      },
      "source": [
        "## Un flujo de trabajo de depuración común: `add()` + `summary()`\n",
        "\n",
        "When building a new Sequential architecture, it's useful to incrementally stack layers with `add()` and frequently print model summaries. For instance, this enables you to monitor how a stack of `Conv2D` and `MaxPooling2D` layers is downsampling image feature maps:"
      ]
    },
    {
      "cell_type": "code",
      "execution_count": 0,
      "metadata": {
        "colab_type": "code",
        "id": "lz8Lo0OOweir"
      },
      "outputs": [

      ],
      "source": [
        "model = keras.Sequential()\n",
        "model.add(keras.Input(shape=(250, 250, 3)))  # 250x250 RGB images\n",
        "model.add(layers.Conv2D(32, 5, strides=2, activation=\"relu\"))\n",
        "model.add(layers.Conv2D(32, 3, activation=\"relu\"))\n",
        "model.add(layers.MaxPooling2D(3))\n",
        "\n",
        "# Can you guess what the current output shape is at this point? Probably not.\n",
        "# Let's just print it:\n",
        "model.summary()\n",
        "\n",
        "# The answer was: (40, 40, 32), so we can keep downsampling...\n",
        "\n",
        "model.add(layers.Conv2D(32, 3, activation=\"relu\"))\n",
        "model.add(layers.Conv2D(32, 3, activation=\"relu\"))\n",
        "model.add(layers.MaxPooling2D(3))\n",
        "model.add(layers.Conv2D(32, 3, activation=\"relu\"))\n",
        "model.add(layers.Conv2D(32, 3, activation=\"relu\"))\n",
        "model.add(layers.MaxPooling2D(2))\n",
        "\n",
        "# And now?\n",
        "model.summary()\n",
        "\n",
        "# Now that we have 4x4 feature maps, time to apply global max pooling.\n",
        "model.add(layers.GlobalMaxPooling2D())\n",
        "\n",
        "# Finally, we add a classification layer.\n",
        "model.add(layers.Dense(10))"
      ]
    },
    {
      "cell_type": "markdown",
      "metadata": {
        "colab_type": "text",
        "id": "CNbDnMrNPCWu"
      },
      "source": [
        "Muy práctico, ¿verdad?\n"
      ]
    },
    {
      "cell_type": "markdown",
      "metadata": {
        "colab_type": "text",
        "id": "doMLAEStLF8l"
      },
      "source": [
        "## Qué hacer una vez que tenga un modelo\n",
        "\n",
        "Una vez que la arquitectura de su modelo esté lista, querrá:\n",
        "\n",
        "- Entrene su modelo, evalúelo y ejecute inferencias. Consulte nuestra [guía de capacitación y evaluación con los bucles integrados](https://www.tensorflow.org/guide/keras/train_and_evaluate/)\n",
        "- Guarde su modelo en el disco y restáurelo. Consulte nuestra [guía para serializar y guardar](https://www.tensorflow.org/guide/keras/save_and_serialize/) .\n",
        "- Acelere el entrenamiento de modelos aprovechando múltiples GPU. Consulte nuestra [guía sobre formación distribuida y con varias GPU](distributed_training) ."
      ]
    },
    {
      "cell_type": "markdown",
      "metadata": {
        "colab_type": "text",
        "id": "tQ1VzU9LjW6O"
      },
      "source": [
        "## Extracción de características con un modelo secuencial\n",
        "\n",
        "Una vez que se ha creado un modelo secuencial, se comporta como un [modelo de API funcional](https://www.tensorflow.org/guide/keras/functional/) . Esto significa que cada capa tiene un atributo de `input` y `output` . Estos atributos se pueden usar para hacer cosas interesantes, como crear rápidamente un modelo que extrae los resultados de todas las capas intermedias en un modelo secuencial:"
      ]
    },
    {
      "cell_type": "code",
      "execution_count": 0,
      "metadata": {
        "colab_type": "code",
        "id": "DCnNkNL4EEWT"
      },
      "outputs": [

      ],
      "source": [
        "initial_model = keras.Sequential(\n",
        "    [\n",
        "        keras.Input(shape=(250, 250, 3)),\n",
        "        layers.Conv2D(32, 5, strides=2, activation=\"relu\"),\n",
        "        layers.Conv2D(32, 3, activation=\"relu\"),\n",
        "        layers.Conv2D(32, 3, activation=\"relu\"),\n",
        "    ]\n",
        ")\n",
        "feature_extractor = keras.Model(\n",
        "    inputs=initial_model.inputs,\n",
        "    outputs=[layer.output for layer in initial_model.layers],\n",
        ")\n",
        "\n",
        "# Call feature extractor on test input.\n",
        "x = tf.ones((1, 250, 250, 3))\n",
        "features = feature_extractor(x)"
      ]
    },
    {
      "cell_type": "markdown",
      "metadata": {
        "colab_type": "text",
        "id": "oX0vtFJEr8mC"
      },
      "source": [
        "Aquí hay un ejemplo similar que solo extrae características de una capa:"
      ]
    },
    {
      "cell_type": "code",
      "execution_count": 0,
      "metadata": {
        "colab_type": "code",
        "id": "4fCuSyOQFkbq"
      },
      "outputs": [

      ],
      "source": [
        "initial_model = keras.Sequential(\n",
        "    [\n",
        "        keras.Input(shape=(250, 250, 3)),\n",
        "        layers.Conv2D(32, 5, strides=2, activation=\"relu\"),\n",
        "        layers.Conv2D(32, 3, activation=\"relu\", name=\"my_intermediate_layer\"),\n",
        "        layers.Conv2D(32, 3, activation=\"relu\"),\n",
        "    ]\n",
        ")\n",
        "feature_extractor = keras.Model(\n",
        "    inputs=initial_model.inputs,\n",
        "    outputs=initial_model.get_layer(name=\"my_intermediate_layer\").output,\n",
        ")\n",
        "# Call feature extractor on test input.\n",
        "x = tf.ones((1, 250, 250, 3))\n",
        "features = feature_extractor(x)"
      ]
    },
    {
      "cell_type": "markdown",
      "metadata": {
        "colab_type": "text",
        "id": "CdWf9KFXXjM4"
      },
      "source": [
        "## Transferir el aprendizaje con un modelo secuencial\n",
        "\n",
        "El aprendizaje por transferencia consiste en congelar las capas inferiores en un modelo y solo entrenar las capas superiores. Si no está familiarizado con él, asegúrese de leer nuestra [guía para transferir el aprendizaje](https://www.tensorflow.org/guide/keras/transfer_learning/) .\n",
        "\n",
        "Aquí hay dos planos de aprendizaje por transferencia comunes que involucran modelos secuenciales.\n",
        "\n",
        "First, let's say that you have a Sequential model, and you want to freeze all layers except the last one. In this case, you would simply iterate over `model.layers` and set `layer.trainable = False` on each layer, except the last one. Like this:\n",
        "\n",
        "```python\n",
        "modelo = keras.Sequential ([keras.Input (shape = (784)) capas.Denso (32, activación = 'relu'), capas.Denso (32, activación = 'relu'), capas.Denso (32, activación = 'relu'), layer.Dense (10),]) # Presumiblemente, primero querrá cargar pesos preentrenados. model.load_weights (...) # Congelar todas las capas excepto la última. for layer in model.layers [: - 1]: layer.trainable = False # Recompilar y entrenar (esto solo actualizará los pesos de la última capa). model.compile (...) model.fit (...)\n",
        "```\n",
        "\n",
        "Otro plan común es usar un modelo secuencial para apilar un modelo previamente entrenado y algunas capas de clasificación recién inicializadas. Me gusta esto:\n",
        "\n",
        "```python\n",
        "# Load a convolutional base with pre-trained weights base_model = keras.applications.Xception(     weights='imagenet',     include_top=False,     pooling='avg')  # Freeze the base model base_model.trainable = False  # Use a Sequential model to add a trainable classifier on top model = keras.Sequential([     base_model,     layers.Dense(1000), ])  # Compile & train model.compile(...) model.fit(...)\n",
        "```\n",
        "\n",
        "Si transfiere el aprendizaje, probablemente se encontrará utilizando con frecuencia estos dos patrones."
      ]
    },
    {
      "cell_type": "markdown",
      "metadata": {
        "colab_type": "text",
        "id": "weB4ei6uNtIg"
      },
      "source": [
        "¡Eso es todo lo que necesita saber sobre los modelos secuenciales!\n",
        "\n",
        "Para obtener más información sobre la construcción de modelos en Keras, consulte:\n",
        "\n",
        "- [Guía de la API funcional](https://www.tensorflow.org/guide/keras/functional/)\n",
        "- [Guía para crear nuevas capas y modelos mediante subclases](https://www.tensorflow.org/guide/keras/custom_layers_and_models/)"
      ]
    }
  ],
  "metadata": {
    "colab": {
      "collapsed_sections": [

      ],
      "name": "sequential_model.ipynb",
      "private_outputs": true,
      "provenance": [

      ],
      "toc_visible": true
    },
    "kernelspec": {
      "display_name": "Python 3",
      "language": "python",
      "name": "python3"
    }
  },
  "nbformat": 4,
  "nbformat_minor": 0
}
