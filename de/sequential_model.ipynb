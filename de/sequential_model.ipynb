{
  "cells": [
    {
      "cell_type": "markdown",
      "metadata": {
        "colab_type": "text",
        "id": "LjJ7XrjSK4Kp"
      },
      "source": [
        "##### Copyright 2020 Die TensorFlow-Autoren."
      ]
    },
    {
      "cell_type": "code",
      "execution_count": 0,
      "metadata": {
        "cellView": "form",
        "colab": {
        },
        "colab_type": "code",
        "id": "vR6F124oRpTA"
      },
      "outputs": [

      ],
      "source": [
        "#@title Licensed under the Apache License, Version 2.0 (the \"License\");\n",
        "# you may not use this file except in compliance with the License.\n",
        "# You may obtain a copy of the License at\n",
        "#\n",
        "# https://www.apache.org/licenses/LICENSE-2.0\n",
        "#\n",
        "# Unless required by applicable law or agreed to in writing, software\n",
        "# distributed under the License is distributed on an \"AS IS\" BASIS,\n",
        "# WITHOUT WARRANTIES OR CONDITIONS OF ANY KIND, either express or implied.\n",
        "# See the License for the specific language governing permissions and\n",
        "# limitations under the License."
      ]
    },
    {
      "cell_type": "markdown",
      "metadata": {
        "colab_type": "text",
        "id": "ZsYweEXsF1Ut"
      },
      "source": [
        "# Das sequentielle Modell"
      ]
    },
    {
      "cell_type": "markdown",
      "metadata": {
        "colab_type": "text",
        "id": "zdxri4XdC3IR"
      },
      "source": [
        "<table class=\"tfo-notebook-buttons\" align=\"left\">\n",
        "  <td><a target=\"_blank\" href=\"https://www.tensorflow.org/guide/keras/sequential_model\"><img src=\"https://www.tensorflow.org/images/tf_logo_32px.png\"> Ansicht auf TensorFlow.org</a></td>\n",
        "  <td><a target=\"_blank\" href=\"https://colab.research.google.com/github/keras-team/keras-io/blob/master/tf/sequential_model.ipynb\"><img src=\"https://www.tensorflow.org/images/colab_logo_32px.png\"> In Google Colab ausführen</a></td>\n",
        "  <td><a target=\"_blank\" href=\"https://github.com/keras-team/keras-io/blob/master/guides/sequential_model.py\"><img src=\"https://www.tensorflow.org/images/GitHub-Mark-32px.png\"> Quelle auf GitHub anzeigen</a></td>\n",
        "  <td><a href=\"https://storage.googleapis.com/tensorflow_docs/keras-io/tf/sequential_model.ipynb\"><img src=\"https://www.tensorflow.org/images/download_logo_32px.png\"> Notizbuch herunterladen</a></td>\n",
        "</table>"
      ]
    },
    {
      "cell_type": "markdown",
      "metadata": {
        "colab_type": "text",
        "id": "Ygz2642R7AEV"
      },
      "source": [
        "## Konfiguration"
      ]
    },
    {
      "cell_type": "code",
      "execution_count": 0,
      "metadata": {
        "colab_type": "code",
        "id": "kPfh5AQ8fFzQ"
      },
      "outputs": [

      ],
      "source": [
        "import tensorflow as tf\n",
        "from tensorflow import keras\n",
        "from tensorflow.keras import layers"
      ]
    },
    {
      "cell_type": "markdown",
      "metadata": {
        "colab_type": "text",
        "id": "H86UozfTDwPp"
      },
      "source": [
        "## Wann wird ein sequentielles Modell verwendet?\n",
        "\n",
        "Ein `Sequential` Modell ist für **einen einfachen Stapel von Schichten** geeignet, wobei jede Schicht **genau einen Eingangstensor und einen Ausgangstensor hat** .\n",
        "\n",
        "Schematisch das folgende `Sequential` Modell:"
      ]
    },
    {
      "cell_type": "code",
      "execution_count": 0,
      "metadata": {
        "colab_type": "code",
        "id": "ajdypoWBxCFi"
      },
      "outputs": [

      ],
      "source": [
        "# Define Sequential model with 3 layers\n",
        "model = keras.Sequential(\n",
        "    [\n",
        "        layers.Dense(2, activation=\"relu\", name=\"layer1\"),\n",
        "        layers.Dense(3, activation=\"relu\", name=\"layer2\"),\n",
        "        layers.Dense(4, name=\"layer3\"),\n",
        "    ]\n",
        ")\n",
        "# Call model on a test input\n",
        "x = tf.ones((3, 3))\n",
        "y = model(x)"
      ]
    },
    {
      "cell_type": "markdown",
      "metadata": {
        "colab_type": "text",
        "id": "m9gUL80fmFFo"
      },
      "source": [
        "entspricht dieser Funktion:"
      ]
    },
    {
      "cell_type": "code",
      "execution_count": 0,
      "metadata": {
        "colab_type": "code",
        "id": "gqksyI6UN0U3"
      },
      "outputs": [

      ],
      "source": [
        "# Create 3 layers\n",
        "layer1 = layers.Dense(2, activation=\"relu\", name=\"layer1\")\n",
        "layer2 = layers.Dense(3, activation=\"relu\", name=\"layer2\")\n",
        "layer3 = layers.Dense(4, name=\"layer3\")\n",
        "\n",
        "# Call layers on a test input\n",
        "x = tf.ones((3, 3))\n",
        "y = layer3(layer2(layer1(x)))"
      ]
    },
    {
      "cell_type": "markdown",
      "metadata": {
        "colab_type": "text",
        "id": "MqyEgCnQVf4w"
      },
      "source": [
        "Ein sequentielles Modell ist **nicht geeignet,** wenn:\n",
        "\n",
        "- Ihr Modell verfügt über mehrere Eingänge oder mehrere Ausgänge\n",
        "- Jede Ihrer Ebenen verfügt über mehrere Eingänge oder mehrere Ausgänge\n",
        "- Sie müssen Layer-Sharing durchführen\n",
        "- Sie möchten eine nichtlineare Topologie (z. B. eine Restverbindung, ein Mehrzweigmodell)."
      ]
    },
    {
      "cell_type": "markdown",
      "metadata": {
        "colab_type": "text",
        "id": "sWxFjYzpKzUD"
      },
      "source": [
        "## Erstellen eines sequentiellen Modells\n",
        "\n",
        "Sie können ein sequentielles Modell erstellen, indem Sie eine Liste von Ebenen an den sequentiellen Konstruktor übergeben:"
      ]
    },
    {
      "cell_type": "code",
      "execution_count": 0,
      "metadata": {
        "colab_type": "code",
        "id": "itLg7K6qTzVO"
      },
      "outputs": [

      ],
      "source": [
        "model = keras.Sequential(\n",
        "    [\n",
        "        layers.Dense(2, activation=\"relu\"),\n",
        "        layers.Dense(3, activation=\"relu\"),\n",
        "        layers.Dense(4),\n",
        "    ]\n",
        ")"
      ]
    },
    {
      "cell_type": "markdown",
      "metadata": {
        "colab_type": "text",
        "id": "g3fvbcVmCHEP"
      },
      "source": [
        "Auf seine Ebenen kann über das `layers` zugegriffen werden:"
      ]
    },
    {
      "cell_type": "code",
      "execution_count": 0,
      "metadata": {
        "colab_type": "code",
        "id": "Lwmuasfp5KXs"
      },
      "outputs": [

      ],
      "source": [
        "model.layers"
      ]
    },
    {
      "cell_type": "markdown",
      "metadata": {
        "colab_type": "text",
        "id": "qVNQRoWqJ3PY"
      },
      "source": [
        "Sie können ein sequentielles Modell auch schrittweise über die Methode `add()` erstellen:"
      ]
    },
    {
      "cell_type": "code",
      "execution_count": 0,
      "metadata": {
        "colab_type": "code",
        "id": "2TD4yRflSEv6"
      },
      "outputs": [

      ],
      "source": [
        "model = keras.Sequential()\n",
        "model.add(layers.Dense(2, activation=\"relu\"))\n",
        "model.add(layers.Dense(3, activation=\"relu\"))\n",
        "model.add(layers.Dense(4))"
      ]
    },
    {
      "cell_type": "markdown",
      "metadata": {
        "colab_type": "text",
        "id": "PmunUrP7HhMI"
      },
      "source": [
        "Beachten Sie, dass es auch eine entsprechende `pop()` -Methode zum Entfernen von Ebenen gibt: Ein sequentielles Modell verhält sich sehr ähnlich wie eine Liste von Ebenen."
      ]
    },
    {
      "cell_type": "code",
      "execution_count": 0,
      "metadata": {
        "colab_type": "code",
        "id": "6INo3oxSLUbA"
      },
      "outputs": [

      ],
      "source": [
        "model.pop()\n",
        "print(len(model.layers))  # 2"
      ]
    },
    {
      "cell_type": "markdown",
      "metadata": {
        "colab_type": "text",
        "id": "AAvcsRrOxQ9W"
      },
      "source": [
        "Beachten Sie auch , dass die sequenzielle Konstruktor ein akzeptiert `name` Argument, wie jede Schicht oder Modell in Keras. Dies ist nützlich, um TensorBoard-Diagramme mit semantisch aussagekräftigen Namen zu versehen."
      ]
    },
    {
      "cell_type": "code",
      "execution_count": 0,
      "metadata": {
        "colab_type": "code",
        "id": "s8oN1kMYqSuD"
      },
      "outputs": [

      ],
      "source": [
        "model = keras.Sequential(name=\"my_sequential\")\n",
        "model.add(layers.Dense(2, activation=\"relu\", name=\"layer1\"))\n",
        "model.add(layers.Dense(3, activation=\"relu\", name=\"layer2\"))\n",
        "model.add(layers.Dense(4, name=\"layer3\"))"
      ]
    },
    {
      "cell_type": "markdown",
      "metadata": {
        "colab_type": "text",
        "id": "PqGh2rmljliN"
      },
      "source": [
        "## Festlegen der Eingabeform im Voraus\n",
        "\n",
        "Im Allgemeinen müssen alle Ebenen in Keras die Form ihrer Eingaben kennen, um ihre Gewichte erstellen zu können. Wenn Sie also eine Ebene wie diese erstellen, hat sie zunächst keine Gewichte:"
      ]
    },
    {
      "cell_type": "code",
      "execution_count": 0,
      "metadata": {
        "colab_type": "code",
        "id": "tW04KX032Ol9"
      },
      "outputs": [

      ],
      "source": [
        "layer = layers.Dense(3)\n",
        "layer.weights  # Empty"
      ]
    },
    {
      "cell_type": "markdown",
      "metadata": {
        "colab_type": "text",
        "id": "NU0Ai9lbGUKA"
      },
      "source": [
        "Es erstellt seine Gewichte beim ersten Aufruf einer Eingabe, da die Form der Gewichte von der Form der Eingaben abhängt:"
      ]
    },
    {
      "cell_type": "code",
      "execution_count": 0,
      "metadata": {
        "colab_type": "code",
        "id": "OqSj1TLCU1vH"
      },
      "outputs": [

      ],
      "source": [
        "# Call layer on a test input\n",
        "x = tf.ones((1, 4))\n",
        "y = layer(x)\n",
        "layer.weights  # Now it has weights, of shape (4, 3) and (3,)"
      ]
    },
    {
      "cell_type": "markdown",
      "metadata": {
        "colab_type": "text",
        "id": "CDF0sLoVrGdU"
      },
      "source": [
        "Dies gilt natürlich auch für sequentielle Modelle. Wenn Sie ein sequentielles Modell ohne Eingabeform instanziieren, wird es nicht \"erstellt\": Es hat keine Gewichte (und das Aufrufen von `model.weights` führt zu einem Fehler, der genau dies angibt). Die Gewichte werden erstellt, wenn das Modell zum ersten Mal Eingabedaten sieht:"
      ]
    },
    {
      "cell_type": "code",
      "execution_count": 0,
      "metadata": {
        "colab_type": "code",
        "id": "ovoPw8Ncbevb"
      },
      "outputs": [

      ],
      "source": [
        "model = keras.Sequential(\n",
        "    [\n",
        "        layers.Dense(2, activation=\"relu\"),\n",
        "        layers.Dense(3, activation=\"relu\"),\n",
        "        layers.Dense(4),\n",
        "    ]\n",
        ")  # No weights at this stage!\n",
        "\n",
        "# At this point, you can't do this:\n",
        "# model.weights\n",
        "\n",
        "# You also can't do this:\n",
        "# model.summary()\n",
        "\n",
        "# Call the model on a test input\n",
        "x = tf.ones((1, 4))\n",
        "y = model(x)\n",
        "print(\"Number of weights after calling the model:\", len(model.weights))  # 6"
      ]
    },
    {
      "cell_type": "markdown",
      "metadata": {
        "colab_type": "text",
        "id": "laWJparrJg70"
      },
      "source": [
        "Sobald ein Modell \"erstellt\" ist, können Sie seine `summary()` -Methode aufrufen, um seinen Inhalt anzuzeigen:"
      ]
    },
    {
      "cell_type": "code",
      "execution_count": 0,
      "metadata": {
        "colab_type": "code",
        "id": "mY2X9QbgabHu"
      },
      "outputs": [

      ],
      "source": [
        "model.summary()"
      ]
    },
    {
      "cell_type": "markdown",
      "metadata": {
        "colab_type": "text",
        "id": "1ZDoaIHvwSmw"
      },
      "source": [
        "Es kann jedoch sehr nützlich sein, wenn Sie ein sequentielles Modell inkrementell erstellen, um die Zusammenfassung des bisherigen Modells einschließlich der aktuellen Ausgabeform anzeigen zu können. In diesem Fall sollten Sie Ihr Modell , indem ein Start `Input` Objekt zu Ihrem Modell, so dass es seine Eingangsform von Anfang an weiß:"
      ]
    },
    {
      "cell_type": "code",
      "execution_count": 0,
      "metadata": {
        "colab_type": "code",
        "id": "Wv9HeHEeCKAG"
      },
      "outputs": [

      ],
      "source": [
        "model = keras.Sequential()\n",
        "model.add(keras.Input(shape=(4,)))\n",
        "model.add(layers.Dense(2, activation=\"relu\"))\n",
        "\n",
        "model.summary()"
      ]
    },
    {
      "cell_type": "markdown",
      "metadata": {
        "colab_type": "text",
        "id": "4rhwhV0mpu6m"
      },
      "source": [
        "Beachten Sie, dass das `Input` nicht als Teil angezeigt wird `model.layers` , da es nicht eine Schicht ist:"
      ]
    },
    {
      "cell_type": "code",
      "execution_count": 0,
      "metadata": {
        "colab_type": "code",
        "id": "oCwEwMoy1B0A"
      },
      "outputs": [

      ],
      "source": [
        "model.layers"
      ]
    },
    {
      "cell_type": "markdown",
      "metadata": {
        "colab_type": "text",
        "id": "xcKk9VmVY9of"
      },
      "source": [
        "Eine einfache Alternative besteht darin, einfach ein `input_shape` Argument an Ihre erste Ebene zu übergeben:"
      ]
    },
    {
      "cell_type": "code",
      "execution_count": 0,
      "metadata": {
        "colab_type": "code",
        "id": "FMe4x1CMP75N"
      },
      "outputs": [

      ],
      "source": [
        "model = keras.Sequential()\n",
        "model.add(layers.Dense(2, activation=\"relu\", input_shape=(4,)))\n",
        "\n",
        "model.summary()"
      ]
    },
    {
      "cell_type": "markdown",
      "metadata": {
        "colab_type": "text",
        "id": "E8lMCSByqIqP"
      },
      "source": [
        "Modelle, die mit einer solchen vordefinierten Eingabeform erstellt wurden, haben immer Gewichte (noch bevor Daten angezeigt werden) und haben immer eine definierte Ausgabeform.\n",
        "\n",
        "Im Allgemeinen wird empfohlen, die Eingabeform eines sequentiellen Modells immer im Voraus anzugeben, wenn Sie wissen, um was es sich handelt."
      ]
    },
    {
      "cell_type": "markdown",
      "metadata": {
        "colab_type": "text",
        "id": "W5tJgMQ6phEp"
      },
      "source": [
        "## Ein gängiger Debugging-Workflow: `add()` + `summary()`\n",
        "\n",
        "When building a new Sequential architecture, it's useful to incrementally stack layers with `add()` and frequently print model summaries. For instance, this enables you to monitor how a stack of `Conv2D` and `MaxPooling2D` layers is downsampling image feature maps:"
      ]
    },
    {
      "cell_type": "code",
      "execution_count": 0,
      "metadata": {
        "colab_type": "code",
        "id": "lz8Lo0OOweir"
      },
      "outputs": [

      ],
      "source": [
        "model = keras.Sequential()\n",
        "model.add(keras.Input(shape=(250, 250, 3)))  # 250x250 RGB images\n",
        "model.add(layers.Conv2D(32, 5, strides=2, activation=\"relu\"))\n",
        "model.add(layers.Conv2D(32, 3, activation=\"relu\"))\n",
        "model.add(layers.MaxPooling2D(3))\n",
        "\n",
        "# Can you guess what the current output shape is at this point? Probably not.\n",
        "# Let's just print it:\n",
        "model.summary()\n",
        "\n",
        "# The answer was: (40, 40, 32), so we can keep downsampling...\n",
        "\n",
        "model.add(layers.Conv2D(32, 3, activation=\"relu\"))\n",
        "model.add(layers.Conv2D(32, 3, activation=\"relu\"))\n",
        "model.add(layers.MaxPooling2D(3))\n",
        "model.add(layers.Conv2D(32, 3, activation=\"relu\"))\n",
        "model.add(layers.Conv2D(32, 3, activation=\"relu\"))\n",
        "model.add(layers.MaxPooling2D(2))\n",
        "\n",
        "# And now?\n",
        "model.summary()\n",
        "\n",
        "# Now that we have 4x4 feature maps, time to apply global max pooling.\n",
        "model.add(layers.GlobalMaxPooling2D())\n",
        "\n",
        "# Finally, we add a classification layer.\n",
        "model.add(layers.Dense(10))"
      ]
    },
    {
      "cell_type": "markdown",
      "metadata": {
        "colab_type": "text",
        "id": "CNbDnMrNPCWu"
      },
      "source": [
        "Sehr praktisch, oder?\n"
      ]
    },
    {
      "cell_type": "markdown",
      "metadata": {
        "colab_type": "text",
        "id": "doMLAEStLF8l"
      },
      "source": [
        "## Was tun, wenn Sie ein Modell haben?\n",
        "\n",
        "Sobald Ihre Modellarchitektur fertig ist, möchten Sie:\n",
        "\n",
        "- Trainieren Sie Ihr Modell, bewerten Sie es und führen Sie Inferenzen durch. Lesen Sie unseren [Leitfaden zur Schulung und Bewertung mit den integrierten Schleifen](https://www.tensorflow.org/guide/keras/train_and_evaluate/)\n",
        "- Speichern Sie Ihr Modell auf der Festplatte und stellen Sie es wieder her. Weitere Informationen finden Sie in unserer [Anleitung zum Serialisieren und Speichern](https://www.tensorflow.org/guide/keras/save_and_serialize/) .\n",
        "- Beschleunigen Sie das Modelltraining, indem Sie mehrere GPUs einsetzen. Lesen Sie unseren [Leitfaden für Multi-GPU- und verteilte Schulungen](distributed_training) ."
      ]
    },
    {
      "cell_type": "markdown",
      "metadata": {
        "colab_type": "text",
        "id": "tQ1VzU9LjW6O"
      },
      "source": [
        "## Merkmalsextraktion mit einem sequentiellen Modell\n",
        "\n",
        "Sobald ein sequentielles Modell erstellt wurde, verhält es sich wie ein [funktionales API-Modell](https://www.tensorflow.org/guide/keras/functional/) . Dies bedeutet, dass jede Ebene ein `input` und `output` hat. Diese Attribute können verwendet werden, um nette Dinge zu erledigen, z. B. schnell ein Modell zu erstellen, das die Ausgaben aller Zwischenebenen in einem sequentiellen Modell extrahiert:"
      ]
    },
    {
      "cell_type": "code",
      "execution_count": 0,
      "metadata": {
        "colab_type": "code",
        "id": "DCnNkNL4EEWT"
      },
      "outputs": [

      ],
      "source": [
        "initial_model = keras.Sequential(\n",
        "    [\n",
        "        keras.Input(shape=(250, 250, 3)),\n",
        "        layers.Conv2D(32, 5, strides=2, activation=\"relu\"),\n",
        "        layers.Conv2D(32, 3, activation=\"relu\"),\n",
        "        layers.Conv2D(32, 3, activation=\"relu\"),\n",
        "    ]\n",
        ")\n",
        "feature_extractor = keras.Model(\n",
        "    inputs=initial_model.inputs,\n",
        "    outputs=[layer.output for layer in initial_model.layers],\n",
        ")\n",
        "\n",
        "# Call feature extractor on test input.\n",
        "x = tf.ones((1, 250, 250, 3))\n",
        "features = feature_extractor(x)"
      ]
    },
    {
      "cell_type": "markdown",
      "metadata": {
        "colab_type": "text",
        "id": "oX0vtFJEr8mC"
      },
      "source": [
        "Hier ist ein ähnliches Beispiel, das nur Features aus einer Ebene extrahiert:"
      ]
    },
    {
      "cell_type": "code",
      "execution_count": 0,
      "metadata": {
        "colab_type": "code",
        "id": "4fCuSyOQFkbq"
      },
      "outputs": [

      ],
      "source": [
        "initial_model = keras.Sequential(\n",
        "    [\n",
        "        keras.Input(shape=(250, 250, 3)),\n",
        "        layers.Conv2D(32, 5, strides=2, activation=\"relu\"),\n",
        "        layers.Conv2D(32, 3, activation=\"relu\", name=\"my_intermediate_layer\"),\n",
        "        layers.Conv2D(32, 3, activation=\"relu\"),\n",
        "    ]\n",
        ")\n",
        "feature_extractor = keras.Model(\n",
        "    inputs=initial_model.inputs,\n",
        "    outputs=initial_model.get_layer(name=\"my_intermediate_layer\").output,\n",
        ")\n",
        "# Call feature extractor on test input.\n",
        "x = tf.ones((1, 250, 250, 3))\n",
        "features = feature_extractor(x)"
      ]
    },
    {
      "cell_type": "markdown",
      "metadata": {
        "colab_type": "text",
        "id": "CdWf9KFXXjM4"
      },
      "source": [
        "## Übertragen Sie das Lernen mit einem sequentiellen Modell\n",
        "\n",
        "Transferlernen besteht darin, die unteren Schichten in einem Modell einzufrieren und nur die oberen Schichten zu trainieren. Wenn Sie nicht damit vertraut sind, lesen Sie unbedingt unseren [Leitfaden zum Lerntransfer](https://www.tensorflow.org/guide/keras/transfer_learning/) .\n",
        "\n",
        "Hier sind zwei gängige Blaupausen für das Transferlernen mit sequentiellen Modellen.\n",
        "\n",
        "First, let's say that you have a Sequential model, and you want to freeze all layers except the last one. In this case, you would simply iterate over `model.layers` and set `layer.trainable = False` on each layer, except the last one. Like this:\n",
        "\n",
        "```python\n",
        "model = keras.Sequential([     keras.Input(shape=(784))     layers.Dense(32, activation='relu'),     layers.Dense(32, activation='relu'),     layers.Dense(32, activation='relu'),     layers.Dense(10), ])  # Presumably you would want to first load pre-trained weights. model.load_weights(...)  # Freeze all layers except the last one. for layer in model.layers[:-1]:   layer.trainable = False  # Recompile and train (this will only update the weights of the last layer). model.compile(...) model.fit(...)\n",
        "```\n",
        "\n",
        "Ein weiterer gängiger Entwurf besteht darin, ein sequentielles Modell zu verwenden, um ein vorab trainiertes Modell und einige frisch initialisierte Klassifizierungsebenen zu stapeln. So was:\n",
        "\n",
        "```python\n",
        "# Load a convolutional base with pre-trained weights base_model = keras.applications.Xception(     weights='imagenet',     include_top=False,     pooling='avg')  # Freeze the base model base_model.trainable = False  # Use a Sequential model to add a trainable classifier on top model = keras.Sequential([     base_model,     layers.Dense(1000), ])  # Compile & train model.compile(...) model.fit(...)\n",
        "```\n",
        "\n",
        "Wenn Sie das Lernen übertragen, werden Sie wahrscheinlich häufig diese beiden Muster verwenden."
      ]
    },
    {
      "cell_type": "markdown",
      "metadata": {
        "colab_type": "text",
        "id": "weB4ei6uNtIg"
      },
      "source": [
        "Das ist ungefähr alles, was Sie über sequentielle Modelle wissen müssen!\n",
        "\n",
        "Weitere Informationen zum Erstellen von Modellen in Keras finden Sie unter:\n",
        "\n",
        "- [Anleitung zur funktionalen API](https://www.tensorflow.org/guide/keras/functional/)\n",
        "- [Anleitung zum Erstellen neuer Ebenen und Modelle über Unterklassen](https://www.tensorflow.org/guide/keras/custom_layers_and_models/)"
      ]
    }
  ],
  "metadata": {
    "colab": {
      "collapsed_sections": [

      ],
      "name": "sequential_model.ipynb",
      "private_outputs": true,
      "provenance": [

      ],
      "toc_visible": true
    },
    "kernelspec": {
      "display_name": "Python 3",
      "language": "python",
      "name": "python3"
    }
  },
  "nbformat": 4,
  "nbformat_minor": 0
}
